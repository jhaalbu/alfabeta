{
 "cells": [
  {
   "cell_type": "code",
   "execution_count": 1,
   "metadata": {},
   "outputs": [],
   "source": [
    "import pandas as pd\n",
    "import matplotlib.pyplot as plt\n",
    "from matplotlib import cm\n",
    "import matplotlib.ticker as ticker\n",
    "import numpy as np\n",
    "from shapely.geometry import LineString\n",
    "import math\n",
    "import folium\n",
    "from pyproj import CRS\n",
    "from pyproj import Transformer"
   ]
  },
  {
   "cell_type": "code",
   "execution_count": 2,
   "metadata": {},
   "outputs": [],
   "source": [
    "data = pd.read_csv('kjornes.csv', sep=';')\n"
   ]
  },
  {
   "cell_type": "code",
   "execution_count": 3,
   "metadata": {},
   "outputs": [],
   "source": [
    "df = data"
   ]
  },
  {
   "cell_type": "code",
   "execution_count": 4,
   "metadata": {},
   "outputs": [],
   "source": [
    "def transformer(x, y):\n",
    "    transformer = Transformer.from_crs(5973, 4326)\n",
    "    trans_x, trans_y =  transformer.transform(x, y)\n",
    "    return trans_x, trans_y"
   ]
  },
  {
   "cell_type": "code",
   "execution_count": 5,
   "metadata": {},
   "outputs": [],
   "source": [
    "z = df['Z'].tolist()\n",
    "m = df['M'].tolist()\n",
    "h = []\n",
    "#Rekner ut hellinger, litt uelegant utanfor pandas, men funker..\n",
    "for i in range(len(z)):\n",
    "    h.append((z[i] - z[i -1])/(m[i] - m[i - 1]))    "
   ]
  },
  {
   "cell_type": "code",
   "execution_count": 6,
   "metadata": {},
   "outputs": [],
   "source": [
    "#Lager pandas kolonne med hellinger\n",
    "df['H'] = h\n",
    "#Lager pandas kolonne med hellinger i grader\n",
    "df['deg'] = np.degrees(np.arctan(df['H']))\n",
    "#df['coord'] = list(zip(df.X, df.Y))\n",
    "#list1 = []\n",
    "#for i in range(len(df.X)):\n",
    "#    x, y = transformer(df.X[i], df.Y[i])\n",
    "#    list1.append((x, y))\n",
    "#df['trans'] = list1\n"
   ]
  },
  {
   "cell_type": "code",
   "execution_count": 7,
   "metadata": {},
   "outputs": [
    {
     "data": {
      "text/plain": [
       "<matplotlib.axes._subplots.AxesSubplot at 0x20a11ef0308>"
      ]
     },
     "execution_count": 7,
     "metadata": {},
     "output_type": "execute_result"
    },
    {
     "data": {
      "image/png": "[encoded data removed]",
      "text/plain": [
       "<Figure size 432x288 with 1 Axes>"
      ]
     },
     "metadata": {
      "needs_background": "light"
     },
     "output_type": "display_data"
    }
   ],
   "source": [
    "#Plotter helling på skredbane langs skredbana\n",
    "df.plot('M', 'deg')"
   ]
  },
  {
   "cell_type": "code",
   "execution_count": 8,
   "metadata": {},
   "outputs": [
    {
     "name": "stdout",
     "output_type": "stream",
     "text": [
      "            5             4             3           2\n",
      "-2.475e-08 x + 7.439e-06 x - 0.0007957 x + 0.03919 x - 1.465 x + 159.6\n"
     ]
    }
   ],
   "source": [
    "p = np.poly1d(np.polyfit(df['M'], df['Z'], 5))\n",
    "print(p)\n",
    "df['tilpass'] = p(df['M'])\n",
    "\n"
   ]
  },
  {
   "cell_type": "code",
   "execution_count": 9,
   "metadata": {},
   "outputs": [
    {
     "data": {
      "text/html": [
       "<div>\n",
       "<style scoped>\n",
       "    .dataframe tbody tr th:only-of-type {\n",
       "        vertical-align: middle;\n",
       "    }\n",
       "\n",
       "    .dataframe tbody tr th {\n",
       "        vertical-align: top;\n",
       "    }\n",
       "\n",
       "    .dataframe thead th {\n",
       "        text-align: right;\n",
       "    }\n",
       "</style>\n",
       "<table border=\"1\" class=\"dataframe\">\n",
       "  <thead>\n",
       "    <tr style=\"text-align: right;\">\n",
       "      <th></th>\n",
       "      <th>X</th>\n",
       "      <th>Y</th>\n",
       "      <th>Z</th>\n",
       "      <th>M</th>\n",
       "      <th>H</th>\n",
       "      <th>deg</th>\n",
       "      <th>tilpass</th>\n",
       "      <th>H_tilpass</th>\n",
       "      <th>deg_tilpass</th>\n",
       "    </tr>\n",
       "  </thead>\n",
       "  <tbody>\n",
       "    <tr>\n",
       "      <th>0</th>\n",
       "      <td>78180.231043</td>\n",
       "      <td>6.812082e+06</td>\n",
       "      <td>159.0396</td>\n",
       "      <td>0</td>\n",
       "      <td>-0.486631</td>\n",
       "      <td>-25.948983</td>\n",
       "      <td>159.577454</td>\n",
       "      <td>-0.498945</td>\n",
       "      <td>-28.587436</td>\n",
       "    </tr>\n",
       "    <tr>\n",
       "      <th>1</th>\n",
       "      <td>78180.209043</td>\n",
       "      <td>6.812081e+06</td>\n",
       "      <td>158.5605</td>\n",
       "      <td>1</td>\n",
       "      <td>-0.479100</td>\n",
       "      <td>-25.599081</td>\n",
       "      <td>158.150973</td>\n",
       "      <td>-1.426481</td>\n",
       "      <td>-81.731334</td>\n",
       "    </tr>\n",
       "    <tr>\n",
       "      <th>2</th>\n",
       "      <td>78180.187143</td>\n",
       "      <td>6.812080e+06</td>\n",
       "      <td>157.8829</td>\n",
       "      <td>2</td>\n",
       "      <td>-0.677600</td>\n",
       "      <td>-34.121567</td>\n",
       "      <td>156.798202</td>\n",
       "      <td>-1.352770</td>\n",
       "      <td>-77.508040</td>\n",
       "    </tr>\n",
       "    <tr>\n",
       "      <th>3</th>\n",
       "      <td>78180.165143</td>\n",
       "      <td>6.812079e+06</td>\n",
       "      <td>157.1497</td>\n",
       "      <td>3</td>\n",
       "      <td>-0.733200</td>\n",
       "      <td>-36.248870</td>\n",
       "      <td>155.514632</td>\n",
       "      <td>-1.283570</td>\n",
       "      <td>-73.543156</td>\n",
       "    </tr>\n",
       "    <tr>\n",
       "      <th>4</th>\n",
       "      <td>78180.143143</td>\n",
       "      <td>6.812078e+06</td>\n",
       "      <td>155.8802</td>\n",
       "      <td>4</td>\n",
       "      <td>-1.269500</td>\n",
       "      <td>-51.772082</td>\n",
       "      <td>154.295925</td>\n",
       "      <td>-1.218707</td>\n",
       "      <td>-69.826795</td>\n",
       "    </tr>\n",
       "    <tr>\n",
       "      <th>...</th>\n",
       "      <td>...</td>\n",
       "      <td>...</td>\n",
       "      <td>...</td>\n",
       "      <td>...</td>\n",
       "      <td>...</td>\n",
       "      <td>...</td>\n",
       "      <td>...</td>\n",
       "      <td>...</td>\n",
       "      <td>...</td>\n",
       "    </tr>\n",
       "    <tr>\n",
       "      <th>116</th>\n",
       "      <td>78177.682143</td>\n",
       "      <td>6.811966e+06</td>\n",
       "      <td>101.6554</td>\n",
       "      <td>116</td>\n",
       "      <td>-0.586100</td>\n",
       "      <td>-30.374567</td>\n",
       "      <td>101.962253</td>\n",
       "      <td>-0.436381</td>\n",
       "      <td>-25.002781</td>\n",
       "    </tr>\n",
       "    <tr>\n",
       "      <th>117</th>\n",
       "      <td>78177.660143</td>\n",
       "      <td>6.811965e+06</td>\n",
       "      <td>101.0780</td>\n",
       "      <td>117</td>\n",
       "      <td>-0.577400</td>\n",
       "      <td>-30.002137</td>\n",
       "      <td>101.478824</td>\n",
       "      <td>-0.483429</td>\n",
       "      <td>-27.698434</td>\n",
       "    </tr>\n",
       "    <tr>\n",
       "      <th>118</th>\n",
       "      <td>78177.638243</td>\n",
       "      <td>6.811964e+06</td>\n",
       "      <td>100.7041</td>\n",
       "      <td>118</td>\n",
       "      <td>-0.373900</td>\n",
       "      <td>-20.500770</td>\n",
       "      <td>100.944214</td>\n",
       "      <td>-0.534610</td>\n",
       "      <td>-30.630912</td>\n",
       "    </tr>\n",
       "    <tr>\n",
       "      <th>119</th>\n",
       "      <td>78177.616243</td>\n",
       "      <td>6.811963e+06</td>\n",
       "      <td>100.6345</td>\n",
       "      <td>119</td>\n",
       "      <td>-0.069600</td>\n",
       "      <td>-3.981366</td>\n",
       "      <td>100.354120</td>\n",
       "      <td>-0.590094</td>\n",
       "      <td>-33.809899</td>\n",
       "    </tr>\n",
       "    <tr>\n",
       "      <th>120</th>\n",
       "      <td>78177.594243</td>\n",
       "      <td>6.811962e+06</td>\n",
       "      <td>100.6439</td>\n",
       "      <td>120</td>\n",
       "      <td>0.009400</td>\n",
       "      <td>0.538564</td>\n",
       "      <td>99.704068</td>\n",
       "      <td>-0.650052</td>\n",
       "      <td>-37.245249</td>\n",
       "    </tr>\n",
       "  </tbody>\n",
       "</table>\n",
       "<p>121 rows × 9 columns</p>\n",
       "</div>"
      ],
      "text/plain": [
       "                X             Y         Z    M         H        deg  \\\n",
       "0    78180.231043  6.812082e+06  159.0396    0 -0.486631 -25.948983   \n",
       "1    78180.209043  6.812081e+06  158.5605    1 -0.479100 -25.599081   \n",
       "2    78180.187143  6.812080e+06  157.8829    2 -0.677600 -34.121567   \n",
       "3    78180.165143  6.812079e+06  157.1497    3 -0.733200 -36.248870   \n",
       "4    78180.143143  6.812078e+06  155.8802    4 -1.269500 -51.772082   \n",
       "..            ...           ...       ...  ...       ...        ...   \n",
       "116  78177.682143  6.811966e+06  101.6554  116 -0.586100 -30.374567   \n",
       "117  78177.660143  6.811965e+06  101.0780  117 -0.577400 -30.002137   \n",
       "118  78177.638243  6.811964e+06  100.7041  118 -0.373900 -20.500770   \n",
       "119  78177.616243  6.811963e+06  100.6345  119 -0.069600  -3.981366   \n",
       "120  78177.594243  6.811962e+06  100.6439  120  0.009400   0.538564   \n",
       "\n",
       "        tilpass  H_tilpass  deg_tilpass  \n",
       "0    159.577454  -0.498945   -28.587436  \n",
       "1    158.150973  -1.426481   -81.731334  \n",
       "2    156.798202  -1.352770   -77.508040  \n",
       "3    155.514632  -1.283570   -73.543156  \n",
       "4    154.295925  -1.218707   -69.826795  \n",
       "..          ...        ...          ...  \n",
       "116  101.962253  -0.436381   -25.002781  \n",
       "117  101.478824  -0.483429   -27.698434  \n",
       "118  100.944214  -0.534610   -30.630912  \n",
       "119  100.354120  -0.590094   -33.809899  \n",
       "120   99.704068  -0.650052   -37.245249  \n",
       "\n",
       "[121 rows x 9 columns]"
      ]
     },
     "execution_count": 9,
     "metadata": {},
     "output_type": "execute_result"
    }
   ],
   "source": [
    "z_tilpass = df['tilpass'].tolist()\n",
    "h_tilpass = []\n",
    "#Rekner ut hellinger, litt uelegant utanfor pandas, men funker..\n",
    "for i in range(len(m)):\n",
    "    h_tilpass.append((z_tilpass[i] - z_tilpass[i -1])/(m[i] - m[i - 1]))    \n",
    "df['H_tilpass'] = h_tilpass\n",
    "df['deg_tilpass'] = np.degrees(df['H_tilpass'])\n",
    "df\n"
   ]
  },
  {
   "cell_type": "code",
   "execution_count": 10,
   "metadata": {},
   "outputs": [],
   "source": [
    "x_topp = df['X'][0]\n",
    "y_topp = df['Y'][0]\n",
    "x_bunn = df['X'][df['M'].max()]\n",
    "y_bunn = df['Y'][df['M'].max()]\n",
    "latlon_topp = transformer(x_topp, y_topp)\n",
    "latlon_bunn = transformer(x_bunn, y_bunn)"
   ]
  },
  {
   "cell_type": "code",
   "execution_count": 11,
   "metadata": {},
   "outputs": [
    {
     "data": {
      "text/html": [
       "<div>\n",
       "<style scoped>\n",
       "    .dataframe tbody tr th:only-of-type {\n",
       "        vertical-align: middle;\n",
       "    }\n",
       "\n",
       "    .dataframe tbody tr th {\n",
       "        vertical-align: top;\n",
       "    }\n",
       "\n",
       "    .dataframe thead th {\n",
       "        text-align: right;\n",
       "    }\n",
       "</style>\n",
       "<table border=\"1\" class=\"dataframe\">\n",
       "  <thead>\n",
       "    <tr style=\"text-align: right;\">\n",
       "      <th></th>\n",
       "      <th>X</th>\n",
       "      <th>Y</th>\n",
       "      <th>Z</th>\n",
       "      <th>M</th>\n",
       "      <th>H</th>\n",
       "      <th>deg</th>\n",
       "      <th>tilpass</th>\n",
       "      <th>H_tilpass</th>\n",
       "      <th>deg_tilpass</th>\n",
       "    </tr>\n",
       "  </thead>\n",
       "  <tbody>\n",
       "    <tr>\n",
       "      <th>107</th>\n",
       "      <td>78177.879943</td>\n",
       "      <td>6.811975e+06</td>\n",
       "      <td>104.3835</td>\n",
       "      <td>107</td>\n",
       "      <td>-0.0804</td>\n",
       "      <td>-4.596693</td>\n",
       "      <td>104.638541</td>\n",
       "      <td>-0.172536</td>\n",
       "      <td>-9.885581</td>\n",
       "    </tr>\n",
       "  </tbody>\n",
       "</table>\n",
       "</div>"
      ],
      "text/plain": [
       "                X             Y         Z    M       H       deg     tilpass  \\\n",
       "107  78177.879943  6.811975e+06  104.3835  107 -0.0804 -4.596693  104.638541   \n",
       "\n",
       "     H_tilpass  deg_tilpass  \n",
       "107  -0.172536    -9.885581  "
      ]
     },
     "execution_count": 11,
     "metadata": {},
     "output_type": "execute_result"
    }
   ],
   "source": [
    "#Finner punkta med helling på 10 grader\n",
    "df10 = df.loc[(df['deg_tilpass'] <= -9.8) & (df['deg_tilpass'] >= -10.2)]\n",
    "df10"
   ]
  },
  {
   "cell_type": "code",
   "execution_count": 12,
   "metadata": {},
   "outputs": [],
   "source": [
    "#Finner enkelpunktet på 10 grader\n",
    "value = -23 #Verdien som skal finnest\n",
    "mpos_10grad = abs(df['deg_tilpass'] - value).idxmin() #X-akse verdien, altså meterverdi langs skredbane\n",
    "#mpos_10grad = 1044\n",
    "zpos_10grad = df.loc[mpos_10grad, 'tilpass'] #Y-akse verdien, altså Z verdi (høgde) for 10 graders punkt\n",
    "maxzpos = df['Z'].max() #Finner største Z verdi, høgast i skredbane\n",
    "pos_topp = (0, df['tilpass'].max()) #Finner posisjonen til toppen av skredbane\n",
    "pos_10grad = (mpos_10grad, zpos_10grad) #Finner posisjonen til 10 graderspunkt\n"
   ]
  },
  {
   "cell_type": "code",
   "execution_count": 13,
   "metadata": {},
   "outputs": [
    {
     "name": "stdout",
     "output_type": "stream",
     "text": [
      "MULTIPOINT (0 159.5774537977283, 94.91519712322817 106.252795785339)\n",
      "74\n"
     ]
    }
   ],
   "source": [
    "#Lager til enkeltposisjoner for enklere utrekning\n",
    "m1 = pos_topp[0] \n",
    "z1 = pos_topp[1]\n",
    "\n",
    "m2 = pos_10grad[0]\n",
    "z2 = pos_10grad[1]\n",
    "\n",
    "z = z2 - z1\n",
    "m = m2 - m1\n",
    "\n",
    "#Finner betavinkel\n",
    "beta = math.atan(z/m)\n",
    "beta_deg = math.degrees(beta)\n",
    "#Rekner ut alphavinkel\n",
    "alpha = (0.77 * beta_deg) + -3.9\n",
    "alpha_rad = math.radians(alpha)\n",
    "\n",
    "#alpha_1sd = (0.96 * beta_deg) - \n",
    "\n",
    "m_max = df['M'].max()\n",
    "temp_z = math.tan(alpha_rad) * m_max\n",
    "pos_max = (m_max, z1 - -temp_z)\n",
    "\n",
    "#Bruker Shapelybibliotek for å finne \n",
    "first_line = LineString(np.column_stack((df['M'], df['tilpass'])))\n",
    "second_line = LineString(np.column_stack(([pos_topp[0], pos_max[0]], [pos_topp[1], pos_max[1]])))\n",
    "intersection = first_line.intersection(second_line)\n",
    "print(intersection)\n",
    "\n",
    "koordliste = [(p.x, p.y) for p in intersection]\n",
    "\n",
    "utlop = koordliste[-1]\n",
    "#utlop = (intersection.x, intersection.y)\n",
    "#print(utlop)\n",
    "print(m2)"
   ]
  },
  {
   "cell_type": "code",
   "execution_count": null,
   "metadata": {},
   "outputs": [],
   "source": []
  },
  {
   "cell_type": "code",
   "execution_count": 14,
   "metadata": {},
   "outputs": [
    {
     "data": {
      "text/plain": [
       "Text(0.05, 0.95, '$\\\\alpha=29$\\n$\\\\beta=33$')"
      ]
     },
     "execution_count": 14,
     "metadata": {},
     "output_type": "execute_result"
    },
    {
     "data": {
      "image/png": "[encoded data removed]",
      "text/plain": [
       "<Figure size 1080x720 with 1 Axes>"
      ]
     },
     "metadata": {
      "needs_background": "light"
     },
     "output_type": "display_data"
    }
   ],
   "source": [
    "textstr = '\\n'.join((\n",
    "    r'$\\alpha=%.f$' % (abs(int(alpha)), ),\n",
    "    r'$\\beta=%.f$' % (abs(int(beta_deg)), ),))\n",
    "\n",
    "fig, ax = plt.subplots(figsize=(15,10))\n",
    "ax.plot(df['M'], df['Z']) #Høgdeprofilet\n",
    "ax.scatter(df10['M'], df10['Z'], color='r', linewidth='1', label='Punkt med 10 grader helling') # 10 graders punkter\n",
    "ax.plot([pos_topp[0], pos_10grad[0]], [pos_topp[1], pos_10grad[1]]) #Beta \n",
    "#ax.plot([pos_topp[0], pos_max[0]], [pos_topp[1], pos_max[1]])\n",
    "ax.plot(*LineString(intersection).xy, color='red')\n",
    "ax.plot(df['M'], p(df['M'])) #Plotter regresjonslinje ax2 + bx + c\n",
    "ax.legend()\n",
    "ax.grid()\n",
    "loc = ticker.MultipleLocator(base=100.0)\n",
    "ax.xaxis.set_major_locator(loc)\n",
    "#ax.yaxis.set_major_locator(loc)\n",
    "ax.axis('equal')\n",
    "ax.annotate(\"23 graders punkt\", xy=(m2, z2),  xycoords='data',\n",
    "            xytext=(-70, -30), textcoords='offset points',\n",
    "            arrowprops=dict(arrowstyle=\"->\",\n",
    "                            connectionstyle=\"arc3,rad=-0.2\"))\n",
    "ax.annotate(\"Utløpslengde \"+str(int(utlop[0]))+'m', xy=utlop,  xycoords='data',\n",
    "            xytext=(70, -30), textcoords='offset points',\n",
    "            arrowprops=dict(arrowstyle=\"->\",\n",
    "                            connectionstyle=\"arc3,rad=-0.2\"))\n",
    "props = dict(boxstyle='round', facecolor='wheat', alpha=0.5)\n",
    "\n",
    "# place a text box in upper left in axes coords\n",
    "ax.text(0.05, 0.95, textstr, transform=ax.transAxes, fontsize=14,\n",
    "        verticalalignment='top', bbox=props)"
   ]
  },
  {
   "cell_type": "code",
   "execution_count": 15,
   "metadata": {},
   "outputs": [],
   "source": [
    "def transformer(x, y):\n",
    "    transformer = Transformer.from_crs(5973, 4326)\n",
    "    trans_x, trans_y =  transformer.transform(x, y)\n",
    "    return trans_x, trans_y"
   ]
  },
  {
   "cell_type": "code",
   "execution_count": 16,
   "metadata": {},
   "outputs": [
    {
     "name": "stdout",
     "output_type": "stream",
     "text": [
      "94.91519712322817\n",
      "94\n",
      "78178.16554295085\n"
     ]
    }
   ],
   "source": [
    "print(utlop[0])\n",
    "utlopint = int(utlop[0])\n",
    "print(utlopint)\n",
    "coordinatx = df['X'][utlopint]\n",
    "coordinaty = df['Y'][utlopint]\n",
    "print(coordinatx)"
   ]
  },
  {
   "cell_type": "code",
   "execution_count": 17,
   "metadata": {},
   "outputs": [],
   "source": [
    "transformer = Transformer.from_crs(5973, 4326)\n",
    "trans_x, trans_y =  transformer.transform(coordinatx, coordinaty)"
   ]
  },
  {
   "cell_type": "code",
   "execution_count": 18,
   "metadata": {},
   "outputs": [
    {
     "data": {
      "text/html": [
       "<div style=\"width:100%;\"><div style=\"position:relative;width:100%;height:0;padding-bottom:60%;\"><iframe src=\"data:text/html;charset=utf-8;base64,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\" style=\"position:absolute;width:100%;height:100%;left:0;top:0;border:none !important;\" allowfullscreen webkitallowfullscreen mozallowfullscreen></iframe></div></div>"
      ],
      "text/plain": [
       "<folium.folium.Map at 0x20a171d22c8>"
      ]
     },
     "execution_count": 18,
     "metadata": {},
     "output_type": "execute_result"
    }
   ],
   "source": [
    "#Lager kartvisning for å verifisere at koordinater er for riktig stad\n",
    "m = folium.Map(location=[latlon_bunn[0], latlon_bunn[1]], zoom_start=15) #Bruker transformerte koordinater (ikkej funne ut korleis bruke UTM med folium)\n",
    "folium.PolyLine([latlon_topp, latlon_bunn], color=\"red\", weight=2.5, opacity=1).add_to(m)\n",
    "folium.Circle(\n",
    "    radius=1,\n",
    "    location=[trans_x, trans_y],\n",
    "    fill=False,\n",
    ").add_to(m)\n",
    "#Legger til Norgeskart WMS\n",
    "folium.raster_layers.WmsTileLayer(\n",
    "    url='https://opencache.statkart.no/gatekeeper/gk/gk.open_gmaps?layers=topo4&zoom={z}&x={x}&y={y}',\n",
    "    name='Norgeskart',\n",
    "    fmt='image/png',\n",
    "    layers='topo4',\n",
    "    attr=u'<a href=\"http://www.kartverket.no/\">Kartverket</a>',\n",
    "    transparent=True,\n",
    "    overlay=True,\n",
    "    control=True,\n",
    "    \n",
    ").add_to(m)\n",
    "\n",
    "#folium.LayerControl().add_to(m)\n",
    "\n",
    "m"
   ]
  },
  {
   "cell_type": "code",
   "execution_count": null,
   "metadata": {},
   "outputs": [],
   "source": []
  },
  {
   "cell_type": "code",
   "execution_count": null,
   "metadata": {},
   "outputs": [],
   "source": []
  },
  {
   "cell_type": "code",
   "execution_count": null,
   "metadata": {},
   "outputs": [],
   "source": []
  },
  {
   "cell_type": "code",
   "execution_count": null,
   "metadata": {},
   "outputs": [],
   "source": []
  },
  {
   "cell_type": "code",
   "execution_count": null,
   "metadata": {},
   "outputs": [],
   "source": []
  },
  {
   "cell_type": "code",
   "execution_count": null,
   "metadata": {},
   "outputs": [],
   "source": []
  },
  {
   "cell_type": "code",
   "execution_count": null,
   "metadata": {},
   "outputs": [],
   "source": []
  },
  {
   "cell_type": "code",
   "execution_count": null,
   "metadata": {},
   "outputs": [],
   "source": []
  },
  {
   "cell_type": "code",
   "execution_count": null,
   "metadata": {},
   "outputs": [],
   "source": []
  },
  {
   "cell_type": "code",
   "execution_count": null,
   "metadata": {},
   "outputs": [],
   "source": []
  }
 ],
 "metadata": {
  "kernelspec": {
   "display_name": "Python 3",
   "language": "python",
   "name": "python3"
  },
  "language_info": {
   "codemirror_mode": {
    "name": "ipython",
    "version": 3
   },
   "file_extension": ".py",
   "mimetype": "text/x-python",
   "name": "python",
   "nbconvert_exporter": "python",
   "pygments_lexer": "ipython3",
   "version": "3.7.6"
  }
 },
 "nbformat": 4,
 "nbformat_minor": 4
}
